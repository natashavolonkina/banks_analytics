{
 "cells": [
  {
   "cell_type": "markdown",
   "id": "137182f2",
   "metadata": {},
   "source": [
    "# Описание проекта.\n",
    "Заказчик — кредитный отдел банка. Нужно разобраться, влияет ли семейное положение и количество детей клиента на факт погашения кредита в срок. Входные данные от банка — статистика о платёжеспособности клиентов.\n",
    "Результаты исследования будут учтены при построении модели кредитного скоринга — специальной системы, которая оценивает способность потенциального заёмщика вернуть кредит банку."
   ]
  },
  {
   "cell_type": "markdown",
   "id": "bf998913",
   "metadata": {},
   "source": [
    "# Шаг 1. Откройте таблицу и изучите общую информацию о данных"
   ]
  },
  {
   "cell_type": "code",
   "execution_count": 95,
   "id": "1020c348",
   "metadata": {},
   "outputs": [
    {
     "name": "stdout",
     "output_type": "stream",
     "text": [
      "<class 'pandas.core.frame.DataFrame'>\n",
      "RangeIndex: 21525 entries, 0 to 21524\n",
      "Data columns (total 12 columns):\n",
      " #   Column            Non-Null Count  Dtype  \n",
      "---  ------            --------------  -----  \n",
      " 0   children          21525 non-null  int64  \n",
      " 1   days_employed     19351 non-null  float64\n",
      " 2   dob_years         21525 non-null  int64  \n",
      " 3   education         21525 non-null  object \n",
      " 4   education_id      21525 non-null  int64  \n",
      " 5   family_status     21525 non-null  object \n",
      " 6   family_status_id  21525 non-null  int64  \n",
      " 7   gender            21525 non-null  object \n",
      " 8   income_type       21525 non-null  object \n",
      " 9   debt              21525 non-null  int64  \n",
      " 10  total_income      19351 non-null  float64\n",
      " 11  purpose           21525 non-null  object \n",
      "dtypes: float64(2), int64(5), object(5)\n",
      "memory usage: 2.0+ MB\n"
     ]
    },
    {
     "data": {
      "text/html": [
       "<div>\n",
       "<style scoped>\n",
       "    .dataframe tbody tr th:only-of-type {\n",
       "        vertical-align: middle;\n",
       "    }\n",
       "\n",
       "    .dataframe tbody tr th {\n",
       "        vertical-align: top;\n",
       "    }\n",
       "\n",
       "    .dataframe thead th {\n",
       "        text-align: right;\n",
       "    }\n",
       "</style>\n",
       "<table border=\"1\" class=\"dataframe\">\n",
       "  <thead>\n",
       "    <tr style=\"text-align: right;\">\n",
       "      <th></th>\n",
       "      <th>children</th>\n",
       "      <th>days_employed</th>\n",
       "      <th>dob_years</th>\n",
       "      <th>education</th>\n",
       "      <th>education_id</th>\n",
       "      <th>family_status</th>\n",
       "      <th>family_status_id</th>\n",
       "      <th>gender</th>\n",
       "      <th>income_type</th>\n",
       "      <th>debt</th>\n",
       "      <th>total_income</th>\n",
       "      <th>purpose</th>\n",
       "    </tr>\n",
       "  </thead>\n",
       "  <tbody>\n",
       "    <tr>\n",
       "      <th>0</th>\n",
       "      <td>1</td>\n",
       "      <td>-8437.673028</td>\n",
       "      <td>42</td>\n",
       "      <td>высшее</td>\n",
       "      <td>0</td>\n",
       "      <td>женат / замужем</td>\n",
       "      <td>0</td>\n",
       "      <td>F</td>\n",
       "      <td>сотрудник</td>\n",
       "      <td>0</td>\n",
       "      <td>253875.639453</td>\n",
       "      <td>покупка жилья</td>\n",
       "    </tr>\n",
       "    <tr>\n",
       "      <th>1</th>\n",
       "      <td>1</td>\n",
       "      <td>-4024.803754</td>\n",
       "      <td>36</td>\n",
       "      <td>среднее</td>\n",
       "      <td>1</td>\n",
       "      <td>женат / замужем</td>\n",
       "      <td>0</td>\n",
       "      <td>F</td>\n",
       "      <td>сотрудник</td>\n",
       "      <td>0</td>\n",
       "      <td>112080.014102</td>\n",
       "      <td>приобретение автомобиля</td>\n",
       "    </tr>\n",
       "    <tr>\n",
       "      <th>2</th>\n",
       "      <td>0</td>\n",
       "      <td>-5623.422610</td>\n",
       "      <td>33</td>\n",
       "      <td>Среднее</td>\n",
       "      <td>1</td>\n",
       "      <td>женат / замужем</td>\n",
       "      <td>0</td>\n",
       "      <td>M</td>\n",
       "      <td>сотрудник</td>\n",
       "      <td>0</td>\n",
       "      <td>145885.952297</td>\n",
       "      <td>покупка жилья</td>\n",
       "    </tr>\n",
       "    <tr>\n",
       "      <th>3</th>\n",
       "      <td>3</td>\n",
       "      <td>-4124.747207</td>\n",
       "      <td>32</td>\n",
       "      <td>среднее</td>\n",
       "      <td>1</td>\n",
       "      <td>женат / замужем</td>\n",
       "      <td>0</td>\n",
       "      <td>M</td>\n",
       "      <td>сотрудник</td>\n",
       "      <td>0</td>\n",
       "      <td>267628.550329</td>\n",
       "      <td>дополнительное образование</td>\n",
       "    </tr>\n",
       "    <tr>\n",
       "      <th>4</th>\n",
       "      <td>0</td>\n",
       "      <td>340266.072047</td>\n",
       "      <td>53</td>\n",
       "      <td>среднее</td>\n",
       "      <td>1</td>\n",
       "      <td>гражданский брак</td>\n",
       "      <td>1</td>\n",
       "      <td>F</td>\n",
       "      <td>пенсионер</td>\n",
       "      <td>0</td>\n",
       "      <td>158616.077870</td>\n",
       "      <td>сыграть свадьбу</td>\n",
       "    </tr>\n",
       "  </tbody>\n",
       "</table>\n",
       "</div>"
      ],
      "text/plain": [
       "   children  days_employed  dob_years education  education_id  \\\n",
       "0         1   -8437.673028         42    высшее             0   \n",
       "1         1   -4024.803754         36   среднее             1   \n",
       "2         0   -5623.422610         33   Среднее             1   \n",
       "3         3   -4124.747207         32   среднее             1   \n",
       "4         0  340266.072047         53   среднее             1   \n",
       "\n",
       "      family_status  family_status_id gender income_type  debt   total_income  \\\n",
       "0   женат / замужем                 0      F   сотрудник     0  253875.639453   \n",
       "1   женат / замужем                 0      F   сотрудник     0  112080.014102   \n",
       "2   женат / замужем                 0      M   сотрудник     0  145885.952297   \n",
       "3   женат / замужем                 0      M   сотрудник     0  267628.550329   \n",
       "4  гражданский брак                 1      F   пенсионер     0  158616.077870   \n",
       "\n",
       "                      purpose  \n",
       "0               покупка жилья  \n",
       "1     приобретение автомобиля  \n",
       "2               покупка жилья  \n",
       "3  дополнительное образование  \n",
       "4             сыграть свадьбу  "
      ]
     },
     "execution_count": 95,
     "metadata": {},
     "output_type": "execute_result"
    }
   ],
   "source": [
    "import pandas as pd\n",
    "data = pd.read_csv(r'C:\\Users\\Natalia\\Downloads\\data (2).csv')\n",
    "data.info()\n",
    "data.head()\n"
   ]
  },
  {
   "cell_type": "markdown",
   "id": "01e6f5b6",
   "metadata": {},
   "source": [
    "# Вывод\n",
    "В выборке 21525 наблюдений: 5 текстовых, 5 целочисленных, 2 вещественных.\n",
    "В столбцах days_employed (общий трудовой стаж в днях) и total_income (ежемесячный доход) пропущенно 2174 наблюдений.\n"
   ]
  },
  {
   "cell_type": "markdown",
   "id": "a740ce93",
   "metadata": {},
   "source": [
    "# Шаг 2. Предобработка данных"
   ]
  },
  {
   "cell_type": "markdown",
   "id": "b4936d60",
   "metadata": {},
   "source": [
    "1. Обработка пропусков "
   ]
  },
  {
   "cell_type": "code",
   "execution_count": 51,
   "id": "fc6a8417",
   "metadata": {},
   "outputs": [
    {
     "name": "stdout",
     "output_type": "stream",
     "text": [
      "Столбец: total_income\n",
      "Колличество пропущеных значений: 2174\n",
      "Какой % от данных составляет: 10.099883855981417 %\n",
      "Медиана: 145017.93753253992\n",
      "Проверим сколько пропусков осталось после обработки: 0\n",
      "   children  days_employed  dob_years education  education_id  \\\n",
      "0         1   -8437.673028         42    высшее             0   \n",
      "1         1   -4024.803754         36   среднее             1   \n",
      "2         0   -5623.422610         33   Среднее             1   \n",
      "3         3   -4124.747207         32   среднее             1   \n",
      "4         0  340266.072047         53   среднее             1   \n",
      "\n",
      "      family_status  family_status_id gender income_type  debt   total_income  \\\n",
      "0   женат / замужем                 0      F   сотрудник     0  253875.639453   \n",
      "1   женат / замужем                 0      F   сотрудник     0  112080.014102   \n",
      "2   женат / замужем                 0      M   сотрудник     0  145885.952297   \n",
      "3   женат / замужем                 0      M   сотрудник     0  267628.550329   \n",
      "4  гражданский брак                 1      F   пенсионер     0  158616.077870   \n",
      "\n",
      "                      purpose  \n",
      "0               покупка жилья  \n",
      "1     приобретение автомобиля  \n",
      "2               покупка жилья  \n",
      "3  дополнительное образование  \n",
      "4             сыграть свадьбу  \n"
     ]
    }
   ],
   "source": [
    "print('Столбец: total_income')\n",
    "#обработаю пропуски в столбце total_income\n",
    "#определю какую долю составляют пропущенные данные \n",
    "data['total_income'].value_counts() #показывает сколько данных пропущенно\n",
    "print('Колличество пропущеных значений:', len(data[data['total_income'].isnull()]))\n",
    "print('Какой % от данных составляет:',  100 -((19351 * 100) / 21525 ), '%')\n",
    "#появление пропусков в данных возможно возникло из-за человеческого фактора\n",
    "#в этом столбце пропущенны значения колличественного типа, поэтому будет разумно заполнить пропуски медианным значением по \n",
    "#данному столбцу\n",
    "data_median = data['total_income'].median()\n",
    "print('Медиана:', data_median)\n",
    "data['total_income'] = data['total_income'].fillna(value = data_median) # замена пропусков на медиану\n",
    "print('Проверим сколько пропусков осталось после обработки:', len(data[data['total_income'].isnull()]))\n",
    "print(data.head())"
   ]
  },
  {
   "cell_type": "markdown",
   "id": "1156c645",
   "metadata": {},
   "source": [
    "3. Замена типов данных"
   ]
  },
  {
   "cell_type": "code",
   "execution_count": 52,
   "id": "4d683a88",
   "metadata": {},
   "outputs": [
    {
     "name": "stdout",
     "output_type": "stream",
     "text": [
      "<class 'pandas.core.frame.DataFrame'>\n",
      "RangeIndex: 21525 entries, 0 to 21524\n",
      "Data columns (total 12 columns):\n",
      " #   Column            Non-Null Count  Dtype  \n",
      "---  ------            --------------  -----  \n",
      " 0   children          21525 non-null  int64  \n",
      " 1   days_employed     19351 non-null  float64\n",
      " 2   dob_years         21525 non-null  int64  \n",
      " 3   education         21525 non-null  object \n",
      " 4   education_id      21525 non-null  int64  \n",
      " 5   family_status     21525 non-null  object \n",
      " 6   family_status_id  21525 non-null  int64  \n",
      " 7   gender            21525 non-null  object \n",
      " 8   income_type       21525 non-null  object \n",
      " 9   debt              21525 non-null  int64  \n",
      " 10  total_income      21525 non-null  int64  \n",
      " 11  purpose           21525 non-null  object \n",
      "dtypes: float64(1), int64(6), object(5)\n",
      "memory usage: 2.0+ MB\n"
     ]
    }
   ],
   "source": [
    "data['total_income'] = data['total_income'].astype('int64')\n",
    "data['dob_years'] = data['dob_years'].astype('int64')\n",
    "data.info()"
   ]
  },
  {
   "cell_type": "markdown",
   "id": "8a45940f",
   "metadata": {},
   "source": [
    "Вывод: Переменные типа float64: children, dob_years представим в виде целых чисел int64, так как это количество детей и возраст клиента. \n",
    "Столбец days_employed тоже лучше представить в виде int64, но пока не знаем, что делать с этим столбцом, поэтому оставим его в таком виде."
   ]
  },
  {
   "cell_type": "markdown",
   "id": "67c43449",
   "metadata": {},
   "source": [
    "4. Обработка дубликатов и некорректных значений"
   ]
  },
  {
   "cell_type": "code",
   "execution_count": 60,
   "id": "a950c1c5",
   "metadata": {},
   "outputs": [
    {
     "name": "stdout",
     "output_type": "stream",
     "text": [
      "Обработанные уникальные значения для каждого столбца\n",
      "\n",
      "среднее                15172\n",
      "высшее                  5250\n",
      "неоконченное высшее      743\n",
      "начальное                282\n",
      "ученая степень             6\n",
      "Name: education, dtype: int64\n",
      "\n",
      "женат / замужем          12339\n",
      "гражданский брак          4150\n",
      "не женат / не замужем     2810\n",
      "в разводе                 1195\n",
      "вдовец / вдова             959\n",
      "Name: family_status, dtype: int64\n",
      "\n",
      "сотрудник          11084\n",
      "компаньон           5077\n",
      "пенсионер           3829\n",
      "госслужащий         1457\n",
      "безработный            2\n",
      "предприниматель        2\n",
      "студент                1\n",
      "в декрете              1\n",
      "Name: income_type, dtype: int64\n",
      "\n",
      "Удаление неккоретного значения пола(gender)\n",
      "F    14174\n",
      "M     7279\n",
      "Name: gender, dtype: int64\n",
      "\n",
      "Удаление дубликатов\n",
      "0\n",
      "0\n",
      "Проверка корректности данных children\n",
      "\n",
      "проверка корректности данных children после обработки\n",
      "0    14213\n",
      "1     4808\n",
      "2     2052\n",
      "3      330\n",
      "4       41\n",
      "5        9\n",
      "Name: children, dtype: int64\n",
      "\n",
      "Проверка корректности данных dob_years\n",
      "Минимальный возраст: 19.0\n",
      "Максимальный возраст: 75.0\n"
     ]
    }
   ],
   "source": [
    "print('Обработанные значения для каждого столбца')\n",
    "print()\n",
    "dubl = data['education'].value_counts()\n",
    "data['education'] = data['education'].str.lower() #приведем столбец к нижнему регистру\n",
    "print(data['education'].value_counts())\n",
    "print()\n",
    "print(data['family_status'].value_counts())\n",
    "data['family_status'] = data['family_status'].str.lower() #приведем столбец к нижнему регистру\n",
    "print()\n",
    "print(data['income_type'].value_counts())\n",
    "print()\n",
    "print('Удаление неккоретного значения пола(gender)')\n",
    "data = data[data['gender'] != 'XNA']\n",
    "print(data['gender'].value_counts())\n",
    "print()\n",
    "print('Удаление дубликатов')\n",
    "print(data.duplicated().sum())\n",
    "data = data.drop_duplicates() \n",
    "print(data.duplicated().sum())\n",
    "print(\"Проверка корректности данных children\")\n",
    "children_median = data['children'].median() \n",
    "print()\n",
    "data.loc[(data['children'] == -1) | (data['children'] == 20), 'children'] = children_median #замена некорр.знач. на медиану\n",
    "print(\"проверка корректности данных children после обработки\")\n",
    "print(data['children'].value_counts())\n",
    "print()\n",
    "print(\"Проверка корректности данных dob_years\")\n",
    "#Посмотрим количество строк в датафрейме, где возраст меньше 18 лет(минимальны возраст заёмщика)\n",
    "data.loc[data['dob_years'] < 18, 'dob_years'].count()\n",
    "#Посмотрим, являются строки с возрастом менее 18 лет - нулём. Для этого посчитаем кол-во строк меньше 18 лет и не равных 0.\n",
    "data.loc[(data['dob_years'] <= 18) & (data['dob_years'] != 0), 'dob_years'].count()\n",
    "#Заполним пропуски полученными значениями\n",
    "for i in data['income_type'].unique():\n",
    "    mean_value = data.loc[data['income_type'] == i, 'dob_years'].mean()\n",
    "    data.loc[(data['dob_years'] == 0) & (data['income_type'] == i), 'dob_years'] = mean_value\n",
    "data.loc[data['dob_years'] == 0, 'dob_years'].count()\n",
    "print('Минимальный возраст:', data['dob_years'].min())\n",
    "print('Максимальный возраст:',data['dob_years'].max())"
   ]
  },
  {
   "cell_type": "markdown",
   "id": "ad26901e",
   "metadata": {},
   "source": [
    "5. Создание 2-х новых дататфрейма "
   ]
  },
  {
   "cell_type": "code",
   "execution_count": 39,
   "id": "90812f8f",
   "metadata": {},
   "outputs": [
    {
     "name": "stdout",
     "output_type": "stream",
     "text": [
      "      education  education_id\n",
      "0        высшее             0\n",
      "1       среднее             1\n",
      "2       среднее             1\n",
      "3       среднее             1\n",
      "4       среднее             1\n",
      "...         ...           ...\n",
      "21520   среднее             1\n",
      "21521   среднее             1\n",
      "21522   среднее             1\n",
      "21523   среднее             1\n",
      "21524   среднее             1\n",
      "\n",
      "[21453 rows x 2 columns]\n",
      "          family_status  family_status_id\n",
      "0       женат / замужем                 0\n",
      "1       женат / замужем                 0\n",
      "2       женат / замужем                 0\n",
      "3       женат / замужем                 0\n",
      "4      гражданский брак                 1\n",
      "...                 ...               ...\n",
      "21520  гражданский брак                 1\n",
      "21521   женат / замужем                 0\n",
      "21522  гражданский брак                 1\n",
      "21523   женат / замужем                 0\n",
      "21524   женат / замужем                 0\n",
      "\n",
      "[21453 rows x 2 columns]\n"
     ]
    }
   ],
   "source": [
    "log_education = data[['education', 'education_id']]\n",
    "print(log_education)\n",
    "log_family_status = data[['family_status', 'family_status_id']]\n",
    "print(log_family_status)"
   ]
  },
  {
   "cell_type": "code",
   "execution_count": 40,
   "id": "ead9cd36",
   "metadata": {},
   "outputs": [
    {
     "name": "stdout",
     "output_type": "stream",
     "text": [
      "Удалю столбцы education и family_status \n",
      "<class 'pandas.core.frame.DataFrame'>\n",
      "Int64Index: 21453 entries, 0 to 21524\n",
      "Data columns (total 10 columns):\n",
      " #   Column            Non-Null Count  Dtype  \n",
      "---  ------            --------------  -----  \n",
      " 0   children          21453 non-null  int64  \n",
      " 1   days_employed     19350 non-null  float64\n",
      " 2   dob_years         21453 non-null  int64  \n",
      " 3   education_id      21453 non-null  int64  \n",
      " 4   family_status_id  21453 non-null  int64  \n",
      " 5   gender            21453 non-null  object \n",
      " 6   income_type       21453 non-null  object \n",
      " 7   debt              21453 non-null  int64  \n",
      " 8   total_income      21453 non-null  int64  \n",
      " 9   purpose           21453 non-null  object \n",
      "dtypes: float64(1), int64(6), object(3)\n",
      "memory usage: 1.8+ MB\n",
      "None\n"
     ]
    }
   ],
   "source": [
    "print('Удалю столбцы education и family_status ') #можно оставить только их идентификаторы\n",
    "data.drop('education', axis= 1 , inplace= True)\n",
    "data.drop('family_status', axis= 1 , inplace= True)\n",
    "print(data.info())"
   ]
  },
  {
   "cell_type": "markdown",
   "id": "8879f017",
   "metadata": {},
   "source": [
    "6. Создание столбца \"total_income_category\" "
   ]
  },
  {
   "cell_type": "code",
   "execution_count": 99,
   "id": "4b88a1f8",
   "metadata": {},
   "outputs": [
    {
     "name": "stdout",
     "output_type": "stream",
     "text": [
      "   children  days_employed  dob_years education  education_id  \\\n",
      "0         1   -8437.673028         42    высшее             0   \n",
      "1         1   -4024.803754         36   среднее             1   \n",
      "2         0   -5623.422610         33   Среднее             1   \n",
      "3         3   -4124.747207         32   среднее             1   \n",
      "4         0  340266.072047         53   среднее             1   \n",
      "5         0    -926.185831         27    высшее             0   \n",
      "6         0   -2879.202052         43    высшее             0   \n",
      "7         0    -152.779569         50   СРЕДНЕЕ             1   \n",
      "8         2   -6929.865299         35    ВЫСШЕЕ             0   \n",
      "9         0   -2188.756445         41   среднее             1   \n",
      "\n",
      "      family_status  family_status_id gender income_type  debt   total_income  \\\n",
      "0   женат / замужем                 0      F   сотрудник     0  253875.639453   \n",
      "1   женат / замужем                 0      F   сотрудник     0  112080.014102   \n",
      "2   женат / замужем                 0      M   сотрудник     0  145885.952297   \n",
      "3   женат / замужем                 0      M   сотрудник     0  267628.550329   \n",
      "4  гражданский брак                 1      F   пенсионер     0  158616.077870   \n",
      "5  гражданский брак                 1      M   компаньон     0  255763.565419   \n",
      "6   женат / замужем                 0      F   компаньон     0  240525.971920   \n",
      "7   женат / замужем                 0      M   сотрудник     0  135823.934197   \n",
      "8  гражданский брак                 1      F   сотрудник     0   95856.832424   \n",
      "9   женат / замужем                 0      M   сотрудник     0  144425.938277   \n",
      "\n",
      "                      purpose total_income_category  \n",
      "0               покупка жилья                     B  \n",
      "1     приобретение автомобиля                     C  \n",
      "2               покупка жилья                     C  \n",
      "3  дополнительное образование                     B  \n",
      "4             сыграть свадьбу                     C  \n",
      "5               покупка жилья                     B  \n",
      "6           операции с жильем                     B  \n",
      "7                 образование                     C  \n",
      "8       на проведение свадьбы                     C  \n",
      "9     покупка жилья для семьи                     C  \n"
     ]
    }
   ],
   "source": [
    "def create(total_income):\n",
    "    if 0 <= total_income <= 30000:\n",
    "        return 'E'\n",
    "    elif 30001 <= total_income <= 50000:\n",
    "        return 'D'\n",
    "    elif 50001 <= total_income <= 200000:\n",
    "        return 'C'\n",
    "    elif 200001 <= total_income <= 1000000:\n",
    "        return 'B'\n",
    "    elif total_income >= 1000001:\n",
    "        return 'A'\n",
    "data['total_income_category'] = data['total_income'].apply(create)\n",
    "print(data.head(10))"
   ]
  },
  {
   "cell_type": "markdown",
   "id": "dc67fadb",
   "metadata": {},
   "source": [
    "7. Создание функции 'purpose_category'"
   ]
  },
  {
   "cell_type": "code",
   "execution_count": 103,
   "id": "718f5272",
   "metadata": {},
   "outputs": [
    {
     "name": "stdout",
     "output_type": "stream",
     "text": [
      "свадьба                                   797\n",
      "на проведение свадьбы                     777\n",
      "сыграть свадьбу                           774\n",
      "операции с недвижимостью                  676\n",
      "покупка коммерческой недвижимости         664\n",
      "покупка жилья для сдачи                   653\n",
      "операции с жильем                         653\n",
      "операции с коммерческой недвижимостью     651\n",
      "покупка жилья                             647\n",
      "жилье                                     647\n",
      "покупка жилья для семьи                   641\n",
      "строительство собственной недвижимости    635\n",
      "недвижимость                              634\n",
      "операции со своей недвижимостью           630\n",
      "строительство жилой недвижимости          626\n",
      "покупка недвижимости                      624\n",
      "строительство недвижимости                620\n",
      "покупка своего жилья                      620\n",
      "ремонт жилью                              612\n",
      "покупка жилой недвижимости                607\n",
      "на покупку своего автомобиля              505\n",
      "заняться высшим образованием              496\n",
      "автомобиль                                495\n",
      "сделка с подержанным автомобилем          489\n",
      "свой автомобиль                           480\n",
      "на покупку подержанного автомобиля        479\n",
      "автомобили                                478\n",
      "на покупку автомобиля                     472\n",
      "дополнительное образование                462\n",
      "приобретение автомобиля                   462\n",
      "сделка с автомобилем                      455\n",
      "высшее образование                        453\n",
      "образование                               447\n",
      "получение дополнительного образования     447\n",
      "получение образования                     443\n",
      "профильное образование                    436\n",
      "получение высшего образования             426\n",
      "заняться образованием                     412\n",
      "Name: purpose, dtype: int64\n",
      "   children  days_employed  dob_years education  education_id  \\\n",
      "0         1   -8437.673028         42    высшее             0   \n",
      "1         1   -4024.803754         36   среднее             1   \n",
      "2         0   -5623.422610         33   Среднее             1   \n",
      "3         3   -4124.747207         32   среднее             1   \n",
      "4         0  340266.072047         53   среднее             1   \n",
      "5         0    -926.185831         27    высшее             0   \n",
      "6         0   -2879.202052         43    высшее             0   \n",
      "7         0    -152.779569         50   СРЕДНЕЕ             1   \n",
      "8         2   -6929.865299         35    ВЫСШЕЕ             0   \n",
      "9         0   -2188.756445         41   среднее             1   \n",
      "\n",
      "      family_status  family_status_id gender income_type  debt   total_income  \\\n",
      "0   женат / замужем                 0      F   сотрудник     0  253875.639453   \n",
      "1   женат / замужем                 0      F   сотрудник     0  112080.014102   \n",
      "2   женат / замужем                 0      M   сотрудник     0  145885.952297   \n",
      "3   женат / замужем                 0      M   сотрудник     0  267628.550329   \n",
      "4  гражданский брак                 1      F   пенсионер     0  158616.077870   \n",
      "5  гражданский брак                 1      M   компаньон     0  255763.565419   \n",
      "6   женат / замужем                 0      F   компаньон     0  240525.971920   \n",
      "7   женат / замужем                 0      M   сотрудник     0  135823.934197   \n",
      "8  гражданский брак                 1      F   сотрудник     0   95856.832424   \n",
      "9   женат / замужем                 0      M   сотрудник     0  144425.938277   \n",
      "\n",
      "                      purpose total_income_category          purpose_category  \n",
      "0               покупка жилья                     B  операции с недвижимостью  \n",
      "1     приобретение автомобиля                     C    операции с автомобилем  \n",
      "2               покупка жилья                     C  операции с недвижимостью  \n",
      "3  дополнительное образование                     B     получение образования  \n",
      "4             сыграть свадьбу                     C        проведение свадьбы  \n",
      "5               покупка жилья                     B  операции с недвижимостью  \n",
      "6           операции с жильем                     B  операции с недвижимостью  \n",
      "7                 образование                     C     получение образования  \n",
      "8       на проведение свадьбы                     C        проведение свадьбы  \n",
      "9     покупка жилья для семьи                     C  операции с недвижимостью  \n"
     ]
    }
   ],
   "source": [
    "print(data['purpose'].value_counts())\n",
    "def categori(purpose):\n",
    "    if 'свадьб' in purpose:\n",
    "        return 'проведение свадьбы'\n",
    "    elif 'авто' in purpose:\n",
    "        return 'операции с автомобилем'\n",
    "    elif ('жиль' in purpose) | ('недвижим' in purpose) :\n",
    "        return 'операции с недвижимостью'\n",
    "    elif 'образов' in purpose:\n",
    "        return 'получение образования'\n",
    "data['purpose_category'] = data['purpose'].apply(categori)\n",
    "print(data.head(10))\n",
    "    \n"
   ]
  },
  {
   "cell_type": "markdown",
   "id": "5c63fe3a",
   "metadata": {},
   "source": [
    "# Вывод"
   ]
  },
  {
   "cell_type": "code",
   "execution_count": 48,
   "id": "ca461c89",
   "metadata": {},
   "outputs": [
    {
     "name": "stdout",
     "output_type": "stream",
     "text": [
      "Есть ли зависимость между количеством детей и возвратом кредита в срок?\n",
      "family_status_id         0         1         2         3         4\n",
      "children                                                          \n",
      "0                 0.068911  0.084487  0.061988  0.070886  0.092707\n",
      "1                 0.082689  0.118593  0.090909  0.067308  0.115813\n",
      "2                 0.094586  0.087464  0.150000  0.086420  0.120000\n",
      "3                 0.068273  0.142857  0.000000  0.090909  0.125000\n",
      "4                 0.103448  0.000000  0.000000  0.000000  0.500000\n",
      "5                 0.000000  0.000000       NaN       NaN       NaN\n",
      "\n",
      "0 женат/замужем\n",
      "1 гражданский брак\n",
      "2 вдовец / вдова\n",
      "3 в разводе\n",
      "4 Не женат / не замужем\n"
     ]
    }
   ],
   "source": [
    "print('Как влияет колличество детей и семейное положение на возврат кредита в срок?')\n",
    "data_pivot = data.pivot_table(index = ['children'], columns = 'family_status_id',\n",
    "values = 'debt', aggfunc = 'mean')\n",
    "# index - столбец или столбцы, по которым происходит группировка данных\n",
    "# columns - столбец по значениям которого будет происходить группировка\n",
    "# values - значения, по которым мы хотим увидеть сводную таблицу\n",
    "# aggfunc - функция, которая будет применяться к значениям\n",
    "print(data_pivot)\n",
    "print()\n",
    "print('0', 'женат/замужем')\n",
    "print('1', 'гражданский брак')\n",
    "print('2', 'вдовец / вдова')\n",
    "print('3', 'в разводе')\n",
    "print('4', 'Не женат / не замужем')\n",
    "print('В результате работы выявленно, что ')\n",
    "#ничего не понятно, сложно сделать какие-то выводы"
   ]
  },
  {
   "cell_type": "code",
   "execution_count": 87,
   "id": "31cbd7bb",
   "metadata": {},
   "outputs": [
    {
     "name": "stdout",
     "output_type": "stream",
     "text": [
      "Как влияет колличество детей и семейное положение на возврат кредита в срок?\n",
      "              no_debt  debt  share_debtors\n",
      "children_new                              \n",
      "есть дети        6235   638       0.092827\n",
      "многодетный       417    39       0.085526\n",
      "нет детей       13132  1064       0.074951\n",
      "\n",
      "Мы видим, что в семьях, где есть дети, уровень задолжностей выше. Однако в многодетных семьях уровень задолжностей ниже, чем в семьях с 1,2 детьми. Меньше всего задолжностей в семьях, где дети отсутствуют.\n"
     ]
    }
   ],
   "source": [
    "#Разобьем заемщиков по категориям по колличеству детей\n",
    "def children_new(children):\n",
    "    if 1 <= children <= 2:\n",
    "        return 'есть дети'\n",
    "    if children >= 3:\n",
    "        return 'многодетный'\n",
    "    return 'нет детей'\n",
    "data['children_new'] = data['children'].apply(children_new)\n",
    "print('Как влияет колличество детей и семейное положение на возврат кредита в срок?')\n",
    "data_pivot = data.pivot_table(index = ['children_new'], columns = 'debt',\n",
    "values = 'gender', aggfunc = 'count')\n",
    "# Создаем столбцы\n",
    "data_pivot.columns = ['no_debt', 'debt']\n",
    "# Считаем долю должников\n",
    "data_pivot['share_debtors'] = data_pivot['debt'] / (data_pivot['debt'] + data_pivot['no_debt'])\n",
    "print(data_pivot)\n",
    "print()\n",
    "print('Вывод: Мы видим, что в семьях, где есть дети, уровень задолжностей выше. Однако в многодетных семьях уровень задолжностей ниже, чем в семьях с 1,2 детьми. Меньше всего задолжностей в семьях, где дети отсутствуют.')"
   ]
  },
  {
   "cell_type": "code",
   "execution_count": 96,
   "id": "2d5a8793",
   "metadata": {},
   "outputs": [
    {
     "name": "stdout",
     "output_type": "stream",
     "text": [
      "Есть ли зависимость между семейным положением и возвратом кредита в срок?\n",
      "                       no_debt  debt  share_debtors\n",
      "family_status                                      \n",
      "Не женат / не замужем     2539   274       0.097405\n",
      "в разводе                 1110    85       0.071130\n",
      "вдовец / вдова             897    63       0.065625\n",
      "гражданский брак          3789   388       0.092890\n",
      "женат / замужем          11449   931       0.075202\n",
      "Вывод: Больше задолжностей имеют люди, находящиеся в гражданском браке или люди не состоящие в браке\n"
     ]
    }
   ],
   "source": [
    "print('Есть ли зависимость между семейным положением и возвратом кредита в срок?')\n",
    "data_pivot = data.pivot_table(index = ['family_status'], columns = 'debt',\n",
    "values = 'gender', aggfunc = 'count')\n",
    "# Создаем столбцы\n",
    "data_pivot.columns = ['no_debt', 'debt']\n",
    "# Считаем долю должников\n",
    "data_pivot['share_debtors'] = data_pivot['debt'] / (data_pivot['debt'] + data_pivot['no_debt'])\n",
    "print(data_pivot)\n",
    "print(\"Вывод: Больше задолжностей имеют люди, находящиеся в гражданском браке или люди не состоящие в браке\")"
   ]
  },
  {
   "cell_type": "code",
   "execution_count": 101,
   "id": "a840fef6",
   "metadata": {},
   "outputs": [
    {
     "name": "stdout",
     "output_type": "stream",
     "text": [
      "Есть ли зависимость между уровнем дохода и возвратом кредита в срок?\n",
      "                       no_debt  debt  share_debtors\n",
      "total_income_category                              \n",
      "A                           23     2       0.080000\n",
      "B                         4685   356       0.070621\n",
      "C                        12723  1190       0.085532\n",
      "D                          329    21       0.060000\n",
      "E                           20     2       0.090909\n",
      "Вывод: Больше всего имеют задолжности люди, которые имеют средний доход(С)\n"
     ]
    }
   ],
   "source": [
    "print('Есть ли зависимость между уровнем дохода и возвратом кредита в срок?')\n",
    "data_pivot = data.pivot_table(index = ['total_income_category'], columns = 'debt',\n",
    "values = 'gender', aggfunc = 'count')\n",
    "# Создаем столбцы\n",
    "data_pivot.columns = ['no_debt', 'debt']\n",
    "# Считаем долю должников\n",
    "data_pivot['share_debtors'] = data_pivot['debt'] / (data_pivot['debt'] + data_pivot['no_debt'])\n",
    "print(data_pivot)\n",
    "print(\"Вывод: Больше всего имеют задолжности люди, которые имеют средний доход(С), меньше всего люди с доходом категории(D)\")"
   ]
  },
  {
   "cell_type": "code",
   "execution_count": 105,
   "id": "91e3ef09",
   "metadata": {},
   "outputs": [
    {
     "name": "stdout",
     "output_type": "stream",
     "text": [
      "Как разные цели кредита влияют на его возврат в срок?\n",
      "                          no_debt  debt  share_debtors\n",
      "purpose_category                                      \n",
      "операции с автомобилем       3912   403       0.093395\n",
      "операции с недвижимостью    10058   782       0.072140\n",
      "получение образования        3652   370       0.091994\n",
      "проведение свадьбы           2162   186       0.079216\n",
      "Вывод: Больше всего имеют задолжности люди, берущие кредиты на получение образования и операции с автомобилем\n"
     ]
    }
   ],
   "source": [
    "print('Как разные цели кредита влияют на его возврат в срок?')\n",
    "data_pivot = data.pivot_table(index = ['purpose_category'], columns = 'debt',\n",
    "values = 'gender', aggfunc = 'count')\n",
    "# Создаем столбцы\n",
    "data_pivot.columns = ['no_debt', 'debt']\n",
    "# Считаем долю должников\n",
    "data_pivot['share_debtors'] = data_pivot['debt'] / (data_pivot['debt'] + data_pivot['no_debt'])\n",
    "print(data_pivot)\n",
    "print(\"Вывод: Больше всего имеют задолжности люди, берущие кредиты на получение образования и операции с автомобилем\")"
   ]
  },
  {
   "cell_type": "code",
   "execution_count": null,
   "id": "20e0c0ea",
   "metadata": {},
   "outputs": [],
   "source": []
  }
 ],
 "metadata": {
  "kernelspec": {
   "display_name": "Python 3 (ipykernel)",
   "language": "python",
   "name": "python3"
  },
  "language_info": {
   "codemirror_mode": {
    "name": "ipython",
    "version": 3
   },
   "file_extension": ".py",
   "mimetype": "text/x-python",
   "name": "python",
   "nbconvert_exporter": "python",
   "pygments_lexer": "ipython3",
   "version": "3.9.13"
  }
 },
 "nbformat": 4,
 "nbformat_minor": 5
}
